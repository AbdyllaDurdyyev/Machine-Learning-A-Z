{
 "cells": [
  {
   "cell_type": "markdown",
   "id": "885af98d",
   "metadata": {},
   "source": [
    "# Pandas Library "
   ]
  },
  {
   "cell_type": "code",
   "execution_count": 1,
   "id": "ef94e12e",
   "metadata": {},
   "outputs": [],
   "source": [
    "import pandas as pd\n",
    "import numpy as np"
   ]
  },
  {
   "cell_type": "code",
   "execution_count": 3,
   "id": "8d6ce1c1",
   "metadata": {},
   "outputs": [
    {
     "data": {
      "text/plain": [
       "index    data\n",
       "dtype: object"
      ]
     },
     "execution_count": 3,
     "metadata": {},
     "output_type": "execute_result"
    }
   ],
   "source": [
    "#Creating series with Pandas\n",
    "pd.Series([\"data\"],[\"index\"])"
   ]
  },
  {
   "cell_type": "code",
   "execution_count": 4,
   "id": "96896233",
   "metadata": {},
   "outputs": [
    {
     "data": {
      "text/plain": [
       "0    1\n",
       "1    2\n",
       "2    3\n",
       "3    4\n",
       "4    5\n",
       "5    6\n",
       "dtype: int64"
      ]
     },
     "execution_count": 4,
     "metadata": {},
     "output_type": "execute_result"
    }
   ],
   "source": [
    "pd.Series([1,2,3,4,5,6])"
   ]
  },
  {
   "cell_type": "code",
   "execution_count": 8,
   "id": "d8043287",
   "metadata": {},
   "outputs": [
    {
     "data": {
      "text/plain": [
       "0      ankara\n",
       "1    istanbul\n",
       "2       izmir\n",
       "3     antalya\n",
       "4       bursa\n",
       "dtype: object"
      ]
     },
     "execution_count": 8,
     "metadata": {},
     "output_type": "execute_result"
    }
   ],
   "source": [
    "seri=pd.Series([\"ankara\",\"istanbul\",\"izmir\",\"antalya\",\"bursa\"])\n",
    "seri "
   ]
  },
  {
   "cell_type": "markdown",
   "id": "2c0c1a92",
   "metadata": {},
   "source": [
    "## Creating series via Numpy arrays"
   ]
  },
  {
   "cell_type": "code",
   "execution_count": 11,
   "id": "89ec9fe0",
   "metadata": {},
   "outputs": [
    {
     "data": {
      "text/plain": [
       "0    1\n",
       "1    2\n",
       "2    3\n",
       "3    4\n",
       "4    5\n",
       "dtype: int32"
      ]
     },
     "execution_count": 11,
     "metadata": {},
     "output_type": "execute_result"
    }
   ],
   "source": [
    "a=np.arange(1,6)\n",
    "seri=pd.Series(a)\n",
    "seri"
   ]
  },
  {
   "cell_type": "code",
   "execution_count": 12,
   "id": "14bdf2ff",
   "metadata": {},
   "outputs": [
    {
     "data": {
      "text/plain": [
       "pandas.core.series.Series"
      ]
     },
     "execution_count": 12,
     "metadata": {},
     "output_type": "execute_result"
    }
   ],
   "source": [
    "#Types of elements in series\n",
    "seri = pd.Series([1,2,3,4,5,6])\n",
    "type(seri)"
   ]
  },
  {
   "cell_type": "code",
   "execution_count": 18,
   "id": "b3dba81b",
   "metadata": {},
   "outputs": [
    {
     "data": {
      "text/plain": [
       "6"
      ]
     },
     "execution_count": 18,
     "metadata": {},
     "output_type": "execute_result"
    }
   ],
   "source": [
    "seri.axes"
   ]
  },
  {
   "cell_type": "code",
   "execution_count": 15,
   "id": "d74f3dc7",
   "metadata": {},
   "outputs": [
    {
     "data": {
      "text/plain": [
       "dtype('int64')"
      ]
     },
     "execution_count": 15,
     "metadata": {},
     "output_type": "execute_result"
    }
   ],
   "source": [
    "seri.dtype"
   ]
  },
  {
   "cell_type": "code",
   "execution_count": 19,
   "id": "cbfe23f2",
   "metadata": {},
   "outputs": [
    {
     "data": {
      "text/plain": [
       "1"
      ]
     },
     "execution_count": 19,
     "metadata": {},
     "output_type": "execute_result"
    }
   ],
   "source": [
    "seri.ndim"
   ]
  },
  {
   "cell_type": "code",
   "execution_count": 20,
   "id": "df0a748e",
   "metadata": {},
   "outputs": [
    {
     "data": {
      "text/plain": [
       "6"
      ]
     },
     "execution_count": 20,
     "metadata": {},
     "output_type": "execute_result"
    }
   ],
   "source": [
    "seri.size"
   ]
  },
  {
   "cell_type": "code",
   "execution_count": 21,
   "id": "7522d907",
   "metadata": {},
   "outputs": [
    {
     "data": {
      "text/plain": [
       "(6,)"
      ]
     },
     "execution_count": 21,
     "metadata": {},
     "output_type": "execute_result"
    }
   ],
   "source": [
    "seri.shape"
   ]
  },
  {
   "cell_type": "code",
   "execution_count": 22,
   "id": "0a251299",
   "metadata": {},
   "outputs": [
    {
     "data": {
      "text/plain": [
       "array([1, 2, 3, 4, 5, 6], dtype=int64)"
      ]
     },
     "execution_count": 22,
     "metadata": {},
     "output_type": "execute_result"
    }
   ],
   "source": [
    "seri.values"
   ]
  },
  {
   "cell_type": "code",
   "execution_count": 23,
   "id": "defb5102",
   "metadata": {},
   "outputs": [
    {
     "data": {
      "text/plain": [
       "0    1\n",
       "1    2\n",
       "2    3\n",
       "dtype: int64"
      ]
     },
     "execution_count": 23,
     "metadata": {},
     "output_type": "execute_result"
    }
   ],
   "source": [
    "seri.head(3)"
   ]
  },
  {
   "cell_type": "code",
   "execution_count": 24,
   "id": "47bc40d2",
   "metadata": {},
   "outputs": [
    {
     "data": {
      "text/plain": [
       "4    5\n",
       "5    6\n",
       "dtype: int64"
      ]
     },
     "execution_count": 24,
     "metadata": {},
     "output_type": "execute_result"
    }
   ],
   "source": [
    "seri.tail(2)"
   ]
  },
  {
   "cell_type": "markdown",
   "id": "7f4eb566",
   "metadata": {},
   "source": [
    "## Indexing on series"
   ]
  },
  {
   "cell_type": "code",
   "execution_count": 26,
   "id": "db0511b6",
   "metadata": {},
   "outputs": [
    {
     "data": {
      "text/plain": [
       "4"
      ]
     },
     "execution_count": 26,
     "metadata": {},
     "output_type": "execute_result"
    }
   ],
   "source": [
    "seri=pd.Series([1,2,3,4,5,6]) \n",
    "seri[3]"
   ]
  },
  {
   "cell_type": "code",
   "execution_count": 27,
   "id": "b082c523",
   "metadata": {},
   "outputs": [
    {
     "data": {
      "text/plain": [
       "0    1\n",
       "2    2\n",
       "4    3\n",
       "6    4\n",
       "8    5\n",
       "dtype: int64"
      ]
     },
     "execution_count": 27,
     "metadata": {},
     "output_type": "execute_result"
    }
   ],
   "source": [
    "#Changing index values in series\n",
    "seri=pd.Series((1,2,3,4,5),index=(0,2,4,6,8))\n",
    "seri"
   ]
  },
  {
   "cell_type": "code",
   "execution_count": 36,
   "id": "1714e738",
   "metadata": {},
   "outputs": [
    {
     "data": {
      "text/plain": [
       "a    1\n",
       "b    2\n",
       "c    3\n",
       "d    4\n",
       "e    5\n",
       "dtype: int64"
      ]
     },
     "execution_count": 36,
     "metadata": {},
     "output_type": "execute_result"
    }
   ],
   "source": [
    "seri=pd.Series((1,2,3,4,5),index=(\"a\",\"b\",\"c\",\"d\",\"e\"))\n",
    "seri"
   ]
  },
  {
   "cell_type": "code",
   "execution_count": 37,
   "id": "618e676c",
   "metadata": {},
   "outputs": [
    {
     "data": {
      "text/plain": [
       "3"
      ]
     },
     "execution_count": 37,
     "metadata": {},
     "output_type": "execute_result"
    }
   ],
   "source": [
    "seri[\"c\"]"
   ]
  },
  {
   "cell_type": "code",
   "execution_count": 31,
   "id": "61dc3b3a",
   "metadata": {},
   "outputs": [
    {
     "data": {
      "text/plain": [
       "3"
      ]
     },
     "execution_count": 31,
     "metadata": {},
     "output_type": "execute_result"
    }
   ],
   "source": [
    "# We can access values with indexes even if we have already changed it\n",
    "#  it works only with strings\n",
    "seri[2]"
   ]
  },
  {
   "cell_type": "code",
   "execution_count": 2,
   "id": "b13891c4",
   "metadata": {},
   "outputs": [
    {
     "data": {
      "text/plain": [
       "a    1\n",
       "b    2\n",
       "c    3\n",
       "d    4\n",
       "e    5\n",
       "dtype: int64"
      ]
     },
     "execution_count": 2,
     "metadata": {},
     "output_type": "execute_result"
    }
   ],
   "source": [
    "#Creating Series via Dictionary\n",
    "sozluk = {\"a\":1, \"b\":2, \"c\":3, \"d\":4, \"e\":5}\n",
    "seri = pd.Series(sozluk)\n",
    "seri"
   ]
  },
  {
   "cell_type": "code",
   "execution_count": 3,
   "id": "d5b066be",
   "metadata": {},
   "outputs": [
    {
     "data": {
      "text/plain": [
       "4"
      ]
     },
     "execution_count": 3,
     "metadata": {},
     "output_type": "execute_result"
    }
   ],
   "source": [
    "seri[\"d\"]"
   ]
  },
  {
   "cell_type": "markdown",
   "id": "06495754",
   "metadata": {},
   "source": [
    "## Access operations in series"
   ]
  },
  {
   "cell_type": "code",
   "execution_count": 4,
   "id": "c536e4c0",
   "metadata": {},
   "outputs": [
    {
     "data": {
      "text/plain": [
       "array([1, 2, 3, 4, 5, 6], dtype=int64)"
      ]
     },
     "execution_count": 4,
     "metadata": {},
     "output_type": "execute_result"
    }
   ],
   "source": [
    "seri=pd.Series([1,2,3,4,5,6])\n",
    "seri.values"
   ]
  },
  {
   "cell_type": "code",
   "execution_count": 5,
   "id": "22d69b1f",
   "metadata": {},
   "outputs": [
    {
     "data": {
      "text/plain": [
       "RangeIndex(start=0, stop=6, step=1)"
      ]
     },
     "execution_count": 5,
     "metadata": {},
     "output_type": "execute_result"
    }
   ],
   "source": [
    "seri.index"
   ]
  },
  {
   "cell_type": "raw",
   "id": "5106d7f8",
   "metadata": {},
   "source": [
    "seri.items"
   ]
  },
  {
   "cell_type": "markdown",
   "id": "c1aa6d35",
   "metadata": {},
   "source": [
    "## Slicing methods in series"
   ]
  },
  {
   "cell_type": "code",
   "execution_count": 7,
   "id": "98f7a526",
   "metadata": {},
   "outputs": [],
   "source": [
    "a = pd.Series([1,2,3,4,5,6])"
   ]
  },
  {
   "cell_type": "code",
   "execution_count": 8,
   "id": "d85de39c",
   "metadata": {},
   "outputs": [
    {
     "data": {
      "text/plain": [
       "0    1\n",
       "1    2\n",
       "2    3\n",
       "3    4\n",
       "4    5\n",
       "5    6\n",
       "dtype: int64"
      ]
     },
     "execution_count": 8,
     "metadata": {},
     "output_type": "execute_result"
    }
   ],
   "source": [
    "a"
   ]
  },
  {
   "cell_type": "code",
   "execution_count": 9,
   "id": "2cf8c971",
   "metadata": {},
   "outputs": [
    {
     "data": {
      "text/plain": [
       "0    1\n",
       "1    2\n",
       "2    3\n",
       "dtype: int64"
      ]
     },
     "execution_count": 9,
     "metadata": {},
     "output_type": "execute_result"
    }
   ],
   "source": [
    "a[0:3]"
   ]
  },
  {
   "cell_type": "code",
   "execution_count": 11,
   "id": "1b88da7f",
   "metadata": {},
   "outputs": [],
   "source": [
    "a.index=(10,20,30,40,50,60)"
   ]
  },
  {
   "cell_type": "code",
   "execution_count": 12,
   "id": "55c761d8",
   "metadata": {},
   "outputs": [
    {
     "data": {
      "text/plain": [
       "Series([], dtype: int64)"
      ]
     },
     "execution_count": 12,
     "metadata": {},
     "output_type": "execute_result"
    }
   ],
   "source": [
    "# If we give a numeric index values and try to slice the series \n",
    "# it returns us empty value\n",
    "a[10:50]"
   ]
  },
  {
   "cell_type": "code",
   "execution_count": 15,
   "id": "e6695c47",
   "metadata": {},
   "outputs": [],
   "source": [
    "# So we use string index values instead of numerical values\n",
    "a.index = (\"a\", \"b\", \"c\", \"d\", \"e\", \"f\")"
   ]
  },
  {
   "cell_type": "code",
   "execution_count": 17,
   "id": "dc0db8e9",
   "metadata": {},
   "outputs": [
    {
     "data": {
      "text/plain": [
       "b    2\n",
       "c    3\n",
       "d    4\n",
       "e    5\n",
       "dtype: int64"
      ]
     },
     "execution_count": 17,
     "metadata": {},
     "output_type": "execute_result"
    }
   ],
   "source": [
    "a[\"b\":\"e\"]"
   ]
  },
  {
   "cell_type": "markdown",
   "id": "4ef3c268",
   "metadata": {},
   "source": [
    "## Merging operations in series"
   ]
  },
  {
   "cell_type": "code",
   "execution_count": 18,
   "id": "2645840e",
   "metadata": {},
   "outputs": [],
   "source": [
    "#Unlike the numpy librari we use \"concat\" nethod in pandas"
   ]
  },
  {
   "cell_type": "code",
   "execution_count": 19,
   "id": "fff683b4",
   "metadata": {},
   "outputs": [
    {
     "data": {
      "text/plain": [
       "a    1\n",
       "b    2\n",
       "c    3\n",
       "d    4\n",
       "e    5\n",
       "f    6\n",
       "g    7\n",
       "f    8\n",
       "dtype: int64"
      ]
     },
     "execution_count": 19,
     "metadata": {},
     "output_type": "execute_result"
    }
   ],
   "source": [
    "seri1=pd.Series((1,2,3,4),index=(\"a\",\"b\",\"c\",\"d\"))\n",
    "seri2=pd.Series((5,6,7,8),index=(\"e\",\"f\",\"g\",\"f\"))\n",
    "pd.concat([seri1,seri2])"
   ]
  },
  {
   "cell_type": "code",
   "execution_count": 20,
   "id": "1a0b6970",
   "metadata": {},
   "outputs": [],
   "source": [
    "#Also we can use \"append\" method"
   ]
  },
  {
   "cell_type": "code",
   "execution_count": 21,
   "id": "6c432795",
   "metadata": {},
   "outputs": [
    {
     "name": "stderr",
     "output_type": "stream",
     "text": [
      "C:\\Users\\abdyl\\AppData\\Local\\Temp\\ipykernel_13144\\2966266472.py:1: FutureWarning: The series.append method is deprecated and will be removed from pandas in a future version. Use pandas.concat instead.\n",
      "  seri1.append(seri2)\n"
     ]
    },
    {
     "data": {
      "text/plain": [
       "a    1\n",
       "b    2\n",
       "c    3\n",
       "d    4\n",
       "e    5\n",
       "f    6\n",
       "g    7\n",
       "f    8\n",
       "dtype: int64"
      ]
     },
     "execution_count": 21,
     "metadata": {},
     "output_type": "execute_result"
    }
   ],
   "source": [
    "seri1.append(seri2)"
   ]
  },
  {
   "cell_type": "markdown",
   "id": "c22d58f5",
   "metadata": {},
   "source": [
    "## Element operations in series"
   ]
  },
  {
   "cell_type": "code",
   "execution_count": 24,
   "id": "5cbd0768",
   "metadata": {},
   "outputs": [
    {
     "data": {
      "text/plain": [
       "True"
      ]
     },
     "execution_count": 24,
     "metadata": {},
     "output_type": "execute_result"
    }
   ],
   "source": [
    "seri1=pd.Series((1,2,3,4),index=(\"a\",\"b\",\"c\",\"d\"))\n",
    "\"a\" in seri1"
   ]
  },
  {
   "cell_type": "code",
   "execution_count": 25,
   "id": "b9d83b57",
   "metadata": {},
   "outputs": [
    {
     "data": {
      "text/plain": [
       "False"
      ]
     },
     "execution_count": 25,
     "metadata": {},
     "output_type": "execute_result"
    }
   ],
   "source": [
    "\"e\" in seri1"
   ]
  },
  {
   "cell_type": "code",
   "execution_count": 28,
   "id": "94f1f272",
   "metadata": {},
   "outputs": [
    {
     "data": {
      "text/plain": [
       "a    1\n",
       "b    2\n",
       "c    3\n",
       "d    4\n",
       "dtype: int64"
      ]
     },
     "execution_count": 28,
     "metadata": {},
     "output_type": "execute_result"
    }
   ],
   "source": [
    "seri[\"a\"]=5\n",
    "seri1"
   ]
  },
  {
   "cell_type": "code",
   "execution_count": 29,
   "id": "b55351df",
   "metadata": {},
   "outputs": [
    {
     "data": {
      "text/plain": [
       "1"
      ]
     },
     "execution_count": 29,
     "metadata": {},
     "output_type": "execute_result"
    }
   ],
   "source": [
    "seri1[0]"
   ]
  },
  {
   "cell_type": "markdown",
   "id": "a118e49e",
   "metadata": {},
   "source": [
    "## loc method"
   ]
  },
  {
   "cell_type": "code",
   "execution_count": 32,
   "id": "af51a225",
   "metadata": {},
   "outputs": [
    {
     "data": {
      "text/plain": [
       "1"
      ]
     },
     "execution_count": 32,
     "metadata": {},
     "output_type": "execute_result"
    }
   ],
   "source": [
    "seri2=pd.Series((1,2,3,4),index=(10,20,30,40)) \n",
    "seri2.loc[10]"
   ]
  },
  {
   "cell_type": "code",
   "execution_count": 33,
   "id": "00f98310",
   "metadata": {},
   "outputs": [
    {
     "data": {
      "text/plain": [
       "10    1\n",
       "20    2\n",
       "30    3\n",
       "dtype: int64"
      ]
     },
     "execution_count": 33,
     "metadata": {},
     "output_type": "execute_result"
    }
   ],
   "source": [
    "seri2.loc[10:30]"
   ]
  },
  {
   "cell_type": "markdown",
   "id": "a27e124a",
   "metadata": {},
   "source": [
    "## iloc method"
   ]
  },
  {
   "cell_type": "code",
   "execution_count": 34,
   "id": "cd42c5ab",
   "metadata": {},
   "outputs": [
    {
     "data": {
      "text/plain": [
       "2"
      ]
     },
     "execution_count": 34,
     "metadata": {},
     "output_type": "execute_result"
    }
   ],
   "source": [
    "#Ignores of indexes opposite of loc\n",
    "seri2.iloc[1]"
   ]
  },
  {
   "cell_type": "code",
   "execution_count": 35,
   "id": "34f96b37",
   "metadata": {},
   "outputs": [
    {
     "data": {
      "text/plain": [
       "10    1\n",
       "20    2\n",
       "dtype: int64"
      ]
     },
     "execution_count": 35,
     "metadata": {},
     "output_type": "execute_result"
    }
   ],
   "source": [
    "seri2.iloc[0:2]"
   ]
  },
  {
   "cell_type": "markdown",
   "id": "92c6318f",
   "metadata": {},
   "source": [
    "## Logical operators in series"
   ]
  },
  {
   "cell_type": "code",
   "execution_count": 36,
   "id": "68c3a074",
   "metadata": {},
   "outputs": [
    {
     "data": {
      "text/plain": [
       "0    False\n",
       "1    False\n",
       "2    False\n",
       "3     True\n",
       "4     True\n",
       "5     True\n",
       "dtype: bool"
      ]
     },
     "execution_count": 36,
     "metadata": {},
     "output_type": "execute_result"
    }
   ],
   "source": [
    "seri1=pd.Series((10,20,30,40,50,60))\n",
    "seri1>30"
   ]
  },
  {
   "cell_type": "code",
   "execution_count": 37,
   "id": "37cabc1c",
   "metadata": {},
   "outputs": [
    {
     "data": {
      "text/plain": [
       "3    40\n",
       "4    50\n",
       "5    60\n",
       "dtype: int64"
      ]
     },
     "execution_count": 37,
     "metadata": {},
     "output_type": "execute_result"
    }
   ],
   "source": [
    "seri1[seri1>30]"
   ]
  },
  {
   "cell_type": "code",
   "execution_count": 39,
   "id": "26e72382",
   "metadata": {},
   "outputs": [
    {
     "data": {
      "text/plain": [
       "1    20\n",
       "2    30\n",
       "3    40\n",
       "dtype: int64"
      ]
     },
     "execution_count": 39,
     "metadata": {},
     "output_type": "execute_result"
    }
   ],
   "source": [
    "seri1[(seri1>15) & (seri1<45)]"
   ]
  },
  {
   "cell_type": "markdown",
   "id": "b76c2cc4",
   "metadata": {},
   "source": [
    " ## Arithmetical operators in series"
   ]
  },
  {
   "cell_type": "code",
   "execution_count": 41,
   "id": "b3fc8a41",
   "metadata": {},
   "outputs": [
    {
     "data": {
      "text/plain": [
       "36"
      ]
     },
     "execution_count": 41,
     "metadata": {},
     "output_type": "execute_result"
    }
   ],
   "source": [
    "seri=pd.Series([1,2,3,4,5,6,7,8])\n",
    "seri.sum()"
   ]
  },
  {
   "cell_type": "code",
   "execution_count": 43,
   "id": "9849de20",
   "metadata": {},
   "outputs": [
    {
     "data": {
      "text/plain": [
       "8"
      ]
     },
     "execution_count": 43,
     "metadata": {},
     "output_type": "execute_result"
    }
   ],
   "source": [
    "seri.max()"
   ]
  },
  {
   "cell_type": "code",
   "execution_count": null,
   "id": "19d13fb3",
   "metadata": {},
   "outputs": [],
   "source": []
  }
 ],
 "metadata": {
  "kernelspec": {
   "display_name": "Python 3 (ipykernel)",
   "language": "python",
   "name": "python3"
  },
  "language_info": {
   "codemirror_mode": {
    "name": "ipython",
    "version": 3
   },
   "file_extension": ".py",
   "mimetype": "text/x-python",
   "name": "python",
   "nbconvert_exporter": "python",
   "pygments_lexer": "ipython3",
   "version": "3.10.9"
  }
 },
 "nbformat": 4,
 "nbformat_minor": 5
}
