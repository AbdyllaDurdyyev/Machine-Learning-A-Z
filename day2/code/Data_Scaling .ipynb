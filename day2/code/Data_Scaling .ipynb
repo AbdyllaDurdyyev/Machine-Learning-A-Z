{
 "cells": [
  {
   "cell_type": "markdown",
   "id": "8ac22f60",
   "metadata": {},
   "source": [
    "# Data Scaling"
   ]
  },
  {
   "cell_type": "code",
   "execution_count": 2,
   "id": "c7aef33b",
   "metadata": {},
   "outputs": [],
   "source": [
    "from sklearn.preprocessing import MinMaxScaler, StandardScaler\n",
    "import numpy as np\n",
    "import pandas as pd"
   ]
  },
  {
   "cell_type": "code",
   "execution_count": 4,
   "id": "fb69e157",
   "metadata": {},
   "outputs": [],
   "source": [
    "#Creating random dataset\n",
    "data = np.array([[1.0, 2.0],\n",
    "                [4.0, 5.0],\n",
    "                [700.0, 800.0]])"
   ]
  },
  {
   "cell_type": "code",
   "execution_count": 5,
   "id": "99a237eb",
   "metadata": {},
   "outputs": [],
   "source": [
    "#Normalization\n",
    "scaler_minmax = MinMaxScaler()\n",
    "data_normalized = scaler_minmax.fit_transform(data)"
   ]
  },
  {
   "cell_type": "code",
   "execution_count": 12,
   "id": "5235668e",
   "metadata": {},
   "outputs": [],
   "source": [
    "#Standartation\n",
    "scaler_standard= StandardScaler()\n",
    "data_standardized= scaler_standard.fit_transform(data)"
   ]
  },
  {
   "cell_type": "code",
   "execution_count": 13,
   "id": "f4830ddf",
   "metadata": {},
   "outputs": [
    {
     "name": "stdout",
     "output_type": "stream",
     "text": [
      "Original data\n",
      "[[  1.   2.]\n",
      " [  4.   5.]\n",
      " [700. 800.]]\n",
      "Data after Normalization\n",
      "[[0.         0.        ]\n",
      " [0.00429185 0.0037594 ]\n",
      " [1.         1.        ]]\n",
      "Data after Standardation\n",
      "[[-0.71166382 -0.71109795]\n",
      " [-0.70253993 -0.70310809]\n",
      " [ 1.41420375  1.41420604]]\n"
     ]
    }
   ],
   "source": [
    "#Printing results\n",
    "print(\"Original data\")\n",
    "print(data)\n",
    "print(\"Data after Normalization\")\n",
    "print(data_normalized)\n",
    "print(\"Data after Standardation\")\n",
    "print(data_standardized)"
   ]
  },
  {
   "cell_type": "code",
   "execution_count": null,
   "id": "f11a878f",
   "metadata": {},
   "outputs": [],
   "source": []
  }
 ],
 "metadata": {
  "kernelspec": {
   "display_name": "Python 3 (ipykernel)",
   "language": "python",
   "name": "python3"
  },
  "language_info": {
   "codemirror_mode": {
    "name": "ipython",
    "version": 3
   },
   "file_extension": ".py",
   "mimetype": "text/x-python",
   "name": "python",
   "nbconvert_exporter": "python",
   "pygments_lexer": "ipython3",
   "version": "3.10.9"
  }
 },
 "nbformat": 4,
 "nbformat_minor": 5
}
