{
 "cells": [
  {
   "cell_type": "markdown",
   "id": "573a9b7a",
   "metadata": {},
   "source": [
    "# Dealing with missing values"
   ]
  },
  {
   "cell_type": "code",
   "execution_count": 1,
   "id": "d7b23630",
   "metadata": {},
   "outputs": [],
   "source": [
    "import pandas as pd\n",
    "import numpy as np"
   ]
  },
  {
   "cell_type": "code",
   "execution_count": 2,
   "id": "1d48e3e0",
   "metadata": {},
   "outputs": [],
   "source": [
    "#Creating sample dataset\n",
    "data = {'A': [1, 2, np.nan, 4, 5],\n",
    "        'B': [5, np.nan, np.nan, 8, 10],\n",
    "        'C': [10, 20, 30, 40, 50]}\n",
    "\n",
    "df = pd.DataFrame(data)"
   ]
  },
  {
   "cell_type": "code",
   "execution_count": 3,
   "id": "f17bd3da",
   "metadata": {},
   "outputs": [
    {
     "name": "stdout",
     "output_type": "stream",
     "text": [
      "Original dataset:\n",
      "      A     B   C\n",
      "0  1.0   5.0  10\n",
      "1  2.0   NaN  20\n",
      "2  NaN   NaN  30\n",
      "3  4.0   8.0  40\n",
      "4  5.0  10.0  50\n"
     ]
    }
   ],
   "source": [
    "# Closer look the missing value\n",
    "print(\"Original dataset:\\n\", df)"
   ]
  },
  {
   "cell_type": "code",
   "execution_count": 5,
   "id": "84c6516b",
   "metadata": {},
   "outputs": [],
   "source": [
    "# Filling missing values with mean values\n",
    "df[\"A\"].fillna(df[\"A\"].mean(), inplace=True)\n",
    "df[\"B\"].fillna(df[\"B\"].mean(), inplace=True)"
   ]
  },
  {
   "cell_type": "code",
   "execution_count": 10,
   "id": "7c2bf983",
   "metadata": {},
   "outputs": [
    {
     "name": "stdout",
     "output_type": "stream",
     "text": [
      "\n",
      "Imputed dataset:\n",
      "      A          B   C\n",
      "0  1.0   5.000000  10\n",
      "1  2.0   7.666667  20\n",
      "2  3.0   7.666667  30\n",
      "3  4.0   8.000000  40\n",
      "4  5.0  10.000000  50\n"
     ]
    }
   ],
   "source": [
    "#Let's see imputed dataset\n",
    "print(\"\\nImputed dataset:\\n\", df)\n",
    "#Fill with median\n",
    "df[\"A\"].fillna(df[\"A\"].median(), inplace=True)\n",
    "#Fill with mode\n",
    "df[\"A\"].fillna(df[\"A\"].mode()[0], inplace=True)\n",
    "#Fill with previous value\n",
    "df[\"A\"].fillna(method=\"ffill\", inplace=True)\n",
    "#Fill with next value\n",
    "df[\"A\"].fillna(method=\"bfill\", inplace=True)"
   ]
  },
  {
   "cell_type": "code",
   "execution_count": null,
   "id": "f09120f0",
   "metadata": {},
   "outputs": [],
   "source": []
  }
 ],
 "metadata": {
  "kernelspec": {
   "display_name": "Python 3 (ipykernel)",
   "language": "python",
   "name": "python3"
  },
  "language_info": {
   "codemirror_mode": {
    "name": "ipython",
    "version": 3
   },
   "file_extension": ".py",
   "mimetype": "text/x-python",
   "name": "python",
   "nbconvert_exporter": "python",
   "pygments_lexer": "ipython3",
   "version": "3.10.9"
  }
 },
 "nbformat": 4,
 "nbformat_minor": 5
}
