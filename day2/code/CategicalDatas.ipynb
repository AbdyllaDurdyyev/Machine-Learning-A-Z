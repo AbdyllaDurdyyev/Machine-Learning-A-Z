{
 "cells": [
  {
   "cell_type": "markdown",
   "id": "14f8fedf",
   "metadata": {},
   "source": [
    "# Categorical datas"
   ]
  },
  {
   "cell_type": "markdown",
   "id": "602adc71",
   "metadata": {},
   "source": [
    "## Importing library"
   ]
  },
  {
   "cell_type": "code",
   "execution_count": 11,
   "id": "f9181ff7",
   "metadata": {},
   "outputs": [],
   "source": [
    "from sklearn.preprocessing import LabelEncoder\n",
    "import pandas as pd"
   ]
  },
  {
   "cell_type": "code",
   "execution_count": 12,
   "id": "52ab45fe",
   "metadata": {},
   "outputs": [],
   "source": [
    "#More bigger categorical data sets"
   ]
  },
  {
   "cell_type": "code",
   "execution_count": 13,
   "id": "4d141568",
   "metadata": {},
   "outputs": [],
   "source": [
    "categories = [\"red\", \"blue\", \"green\", \"blue\", \"red\", \"blue\",\"red\", \"red\", \"green\", \"green\"]\n",
    "data = pd.DataFrame(categories, columns=[\"colours\"])\n",
    "label_encoder=LabelEncoder()\n",
    "\n",
    "data[\"encoded\"] = label_encoder.fit_transform(data[\"colours\"])"
   ]
  },
  {
   "cell_type": "markdown",
   "id": "791e817a",
   "metadata": {},
   "source": [
    "## OneHotEncoder"
   ]
  },
  {
   "cell_type": "code",
   "execution_count": 23,
   "id": "ba1d4bff",
   "metadata": {},
   "outputs": [
    {
     "data": {
      "text/plain": [
       "array([[0., 0., 1.],\n",
       "       [1., 0., 0.],\n",
       "       [0., 1., 0.],\n",
       "       [1., 0., 0.],\n",
       "       [0., 0., 1.],\n",
       "       [1., 0., 0.],\n",
       "       [0., 0., 1.],\n",
       "       [0., 0., 1.],\n",
       "       [0., 1., 0.],\n",
       "       [0., 1., 0.]])"
      ]
     },
     "execution_count": 23,
     "metadata": {},
     "output_type": "execute_result"
    }
   ],
   "source": [
    "from sklearn.preprocessing import OneHotEncoder\n",
    "\n",
    "categories = [\"red\", \"blue\", \"green\", \"blue\", \"red\", \"blue\",\"red\", \"red\", \"green\", \"green\"]\n",
    "data = pd.DataFrame(categories, columns=[\"colours\"])\n",
    "ohe = OneHotEncoder(sparse_output=False)\n",
    "\n",
    "data1=ohe.fit_transform(data[[\"colours\"]])\n",
    "data1"
   ]
  },
  {
   "cell_type": "code",
   "execution_count": 24,
   "id": "28167f21",
   "metadata": {},
   "outputs": [
    {
     "name": "stdout",
     "output_type": "stream",
     "text": [
      "[[0. 0. 1.]\n",
      " [1. 0. 0.]\n",
      " [0. 1. 0.]\n",
      " [1. 0. 0.]\n",
      " [0. 0. 1.]\n",
      " [1. 0. 0.]\n",
      " [0. 0. 1.]\n",
      " [0. 0. 1.]\n",
      " [0. 1. 0.]\n",
      " [0. 1. 0.]]\n"
     ]
    }
   ],
   "source": [
    "# Apply OneHOtEncoder\n",
    "encoded_data = ohe.fit_transform(data[[\"colours\"]])\n",
    "# Get row names from OneHotEncoder\n",
    "column_names = ohe.get_feature_names_out(input_features=[\"colours\"])\n",
    "# Get column names from OneHotEncoder\n",
    "encoded_df = pd.DataFrame(encoded_data, columns=column_names)\n",
    "\n",
    "print(data1)"
   ]
  },
  {
   "cell_type": "code",
   "execution_count": null,
   "id": "94a05dda",
   "metadata": {},
   "outputs": [],
   "source": [
    "import pandas as pd\n",
    "\n",
    "# CREATING FATA----\n",
    "df = pd.DataFrame({'renk': ['kırmızı', 'mavi', 'yeşil', 'mavi', 'yeşil', 'mavi', 'kırmızı', 'mavi', 'kırmızı', 'kırmızı', 'yeşil', 'yeşil']})\n",
    "\n",
    "one_hot_encoded_df = pd.get_dummies(df, columns=['renk'])\n",
    "\n",
    "print(one_hot_encoded_df)\n"
   ]
  }
 ],
 "metadata": {
  "kernelspec": {
   "display_name": "Python 3 (ipykernel)",
   "language": "python",
   "name": "python3"
  },
  "language_info": {
   "codemirror_mode": {
    "name": "ipython",
    "version": 3
   },
   "file_extension": ".py",
   "mimetype": "text/x-python",
   "name": "python",
   "nbconvert_exporter": "python",
   "pygments_lexer": "ipython3",
   "version": "3.10.9"
  }
 },
 "nbformat": 4,
 "nbformat_minor": 5
}
